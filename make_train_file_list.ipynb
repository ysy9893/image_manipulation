{
 "cells": [
  {
   "cell_type": "code",
   "execution_count": 4,
   "id": "editorial-alabama",
   "metadata": {},
   "outputs": [],
   "source": [
    "import os \n",
    "\n",
    "PATH='C:/Users/gptjd/OneDrive/Desktop/tflite_data/test'\n",
    "\n",
    "file=os.listdir(PATH)\n",
    "\n",
    "f=open('C:/Users/gptjd/OneDrive/Desktop/tflite_data/test.txt','w')\n",
    "for i in file:\n",
    "    f.write('/content/drive/MyDrive/darknet/build/darknet/x64/data/obj/'+i+'\\n')\n",
    "f.close()\n",
    "    "
   ]
  },
  {
   "cell_type": "code",
   "execution_count": null,
   "id": "asian-sally",
   "metadata": {},
   "outputs": [],
   "source": []
  },
  {
   "cell_type": "code",
   "execution_count": null,
   "id": "athletic-bhutan",
   "metadata": {},
   "outputs": [],
   "source": []
  }
 ],
 "metadata": {
  "kernelspec": {
   "display_name": "Python 3",
   "language": "python",
   "name": "python3"
  },
  "language_info": {
   "codemirror_mode": {
    "name": "ipython",
    "version": 3
   },
   "file_extension": ".py",
   "mimetype": "text/x-python",
   "name": "python",
   "nbconvert_exporter": "python",
   "pygments_lexer": "ipython3",
   "version": "3.8.0"
  }
 },
 "nbformat": 4,
 "nbformat_minor": 5
}
