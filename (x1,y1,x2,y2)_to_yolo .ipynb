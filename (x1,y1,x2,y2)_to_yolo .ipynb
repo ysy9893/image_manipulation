{
 "cells": [
  {
   "cell_type": "code",
   "execution_count": null,
   "id": "promising-trance",
   "metadata": {},
   "outputs": [],
   "source": []
  },
  {
   "cell_type": "code",
   "execution_count": 6,
   "id": "chemical-clerk",
   "metadata": {},
   "outputs": [],
   "source": [
    "import os \n",
    "import cv2\n",
    "\n",
    "PATH='C:/Users/gptjd/OneDrive/Desktop/tflite_data/mask/new_Label'\n",
    "label_list=os.listdir(PATH)\n",
    "IMAGE_PATH='C:/Users/gptjd/OneDrive/Desktop/tflite_data/mask/new_Image'\n",
    "SAVE_PATH='C:/Users/gptjd/OneDrive/Desktop/tflite_data/mask/yolo_Label'\n",
    "#현재 디렉토리를 PATH로 바꾼다. \n",
    "os.chdir(PATH)\n",
    "\n",
    "\n",
    "for file in label_list:\n",
    "\n",
    "    list_box=[]\n",
    "    image_file=file.replace('.txt','.jpg')\n",
    "    image=cv2.imread(IMAGE_PATH+'/'+image_file)\n",
    "\n",
    "\n",
    "    #파일에서 bounding box의 위치정보를 읽어온다. \n",
    "    f=open(PATH+'/'+file,'r')\n",
    "    while 1:\n",
    "        line=f.readline()\n",
    "        if not line:\n",
    "            break\n",
    "        list_box.append(line.split())\n",
    "    f.close()\n",
    "    \n",
    "    f=open(os.path.join(SAVE_PATH,file),'w')\n",
    "        \n",
    "\n",
    "    for box in list_box:\n",
    "        label='2'\n",
    "        pick=[int(float(box[i])) for i in range(1,len(box))]\n",
    "        imH,imW=image.shape[:2]\n",
    "        x,y,w,h=convert(imW,imH,pick)\n",
    "        text=label+\" \"+str(x)+\" \"+str(y)+\" \"+str(w)+\" \"+str(h)\n",
    "        f.write(text+'\\n')\n",
    "    f.close()\n",
    "\n",
    "            \n",
    "            \n",
    "\n",
    "        \n",
    "    \n",
    "\n",
    "\n",
    "\n",
    "\n",
    "\n",
    "\n"
   ]
  },
  {
   "cell_type": "code",
   "execution_count": 2,
   "id": "electronic-expansion",
   "metadata": {},
   "outputs": [],
   "source": [
    "def convert(imW,imH, box): \n",
    "    box[0]=int(float(box[0]))\n",
    "    box[1]=int(float(box[1]))\n",
    "    box[2]=int(float(box[2]))\n",
    "    box[3]=int(float(box[3]))\n",
    "    \n",
    "    dw = 1./imW\n",
    "    dh = 1./imH\n",
    "    x = (box[0] + box[2])/2.0 \n",
    "    y = (box[1] + box[3])/2.0 \n",
    "    w = box[2] - box[0] \n",
    "    h = box[3] - box[1] \n",
    "    x = x*dw \n",
    "    w = w*dw \n",
    "    y = y*dh \n",
    "    h = h*dh \n",
    "    return x,y,w,h\n",
    "\n"
   ]
  },
  {
   "cell_type": "code",
   "execution_count": null,
   "id": "laughing-inventory",
   "metadata": {},
   "outputs": [],
   "source": []
  }
 ],
 "metadata": {
  "kernelspec": {
   "display_name": "Python 3",
   "language": "python",
   "name": "python3"
  },
  "language_info": {
   "codemirror_mode": {
    "name": "ipython",
    "version": 3
   },
   "file_extension": ".py",
   "mimetype": "text/x-python",
   "name": "python",
   "nbconvert_exporter": "python",
   "pygments_lexer": "ipython3",
   "version": "3.8.0"
  }
 },
 "nbformat": 4,
 "nbformat_minor": 5
}
