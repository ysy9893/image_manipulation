{
 "cells": [
  {
   "cell_type": "code",
   "execution_count": 45,
   "id": "white-river",
   "metadata": {},
   "outputs": [
    {
     "name": "stdout",
     "output_type": "stream",
     "text": [
      "-240 200 -780.0000000000001 899.9999999999999\n"
     ]
    },
    {
     "data": {
      "text/plain": [
       "<matplotlib.patches.Rectangle at 0x21afd9888e0>"
      ]
     },
     "execution_count": 45,
     "metadata": {},
     "output_type": "execute_result"
    },
    {
     "data": {
      "image/png": "[encoded data removed]",
      "text/plain": [
       "<Figure size 432x288 with 1 Axes>"
      ]
     },
     "metadata": {
      "needs_background": "light"
     },
     "output_type": "display_data"
    }
   ],
   "source": [
    "import cv2\n",
    "import os\n",
    "import math\n",
    "import matplotlib.pyplot as plt\n",
    "\n",
    "import matplotlib.pyplot as patches\n",
    "\n",
    "# 회전 변환\n",
    "degree=-180\n",
    "\n",
    "\n",
    "x1=-240\n",
    "y1=200\n",
    "x2=300\n",
    "y2=-500\n",
    "\n",
    "\n",
    "r_x1,r_y1,r_x2,r_y2=convert(x1,y1,x2,y2,degree)\n",
    "print(r_x1,r_y1,r_x2,r_y2)\n",
    "\n",
    "fig,ax = plt.subplots()\n",
    "currentAxis = plt.gca()\n",
    "plt.xlim([-1000,1000])\n",
    "plt.ylim([-1000,1000])\n",
    "ax.set_aspect('equal', adjustable='box')\n",
    "ax.add_patch(\n",
    "     patches.Rectangle(\n",
    "        (x1, y1),\n",
    "        x2-x1,\n",
    "        y2-y1,\n",
    "        edgecolor = 'black',\n",
    "        facecolor = 'red',\n",
    "        fill=True\n",
    "     ) )\n",
    "ax.add_patch(\n",
    "     patches.Rectangle(\n",
    "        (r_x1, r_y1),\n",
    "        r_x2-r_x1,\n",
    "        r_y2-r_y1,\n",
    "        edgecolor = 'blue',\n",
    "        facecolor = 'black',\n",
    "        fill=True\n",
    "     ) )"
   ]
  },
  {
   "cell_type": "code",
   "execution_count": null,
   "id": "piano-welcome",
   "metadata": {},
   "outputs": [],
   "source": []
  },
  {
   "cell_type": "code",
   "execution_count": 36,
   "id": "ambient-liberia",
   "metadata": {},
   "outputs": [],
   "source": [
    "def convert(x1,y1,x2,y2,degree):\n",
    "    ##x1과 y1을 원점으로 만들면 x2,y2값은 어떻게 될까?\n",
    "    temp_x2=x2-x1\n",
    "    temp_y2=y2-y1\n",
    "    #x1,y1이 이제 좌표의 중심점(0,0)\n",
    "    temp_x1=0\n",
    "    temp_y1=0\n",
    "     \n",
    "    #회전변환 공식 \n",
    "    rad = degree * (math.pi / 180.0)#각도를 라디안 값으로 변환 \n",
    "    new_x2 =round(math.cos(rad)*temp_x2 - math.sin(rad)*temp_y2)\n",
    "    new_y2=round(math.sin(rad)*temp_x2 + math.cos(rad)*temp_y2)\n",
    "    \n",
    "    #회전해도 x1,y1은 값이 그대로임!\n",
    "    rotated_x1=x1\n",
    "    rotated_y1=y1\n",
    "    #회전한 값을 원래 좌표로 알맞게 바꾼다!!\n",
    "    rotated_x2=new_x2+x1\n",
    "    rotated_y2=new_y2+y1\n",
    "    \n",
    "    return rotated_x1,rotated_y1,rotated_x2,rotated_y2\n",
    "\n",
    "   "
   ]
  },
  {
   "cell_type": "code",
   "execution_count": null,
   "id": "major-gabriel",
   "metadata": {},
   "outputs": [],
   "source": []
  }
 ],
 "metadata": {
  "kernelspec": {
   "display_name": "Python 3",
   "language": "python",
   "name": "python3"
  },
  "language_info": {
   "codemirror_mode": {
    "name": "ipython",
    "version": 3
   },
   "file_extension": ".py",
   "mimetype": "text/x-python",
   "name": "python",
   "nbconvert_exporter": "python",
   "pygments_lexer": "ipython3",
   "version": "3.8.0"
  }
 },
 "nbformat": 4,
 "nbformat_minor": 5
}
