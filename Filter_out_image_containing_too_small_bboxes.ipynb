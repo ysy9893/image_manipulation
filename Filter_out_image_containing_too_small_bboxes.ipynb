{
 "cells": [
  {
   "cell_type": "code",
   "execution_count": 1,
   "id": "fitting-gravity",
   "metadata": {},
   "outputs": [],
   "source": [
    "import os \n",
    "import cv2\n",
    "import shutil\n",
    "\n",
    "LABEL_PATH='C:/Users/gptjd/OneDrive/Desktop/tflite_data/human/resized_Label'\n",
    "IMAGE_PATH='C:/Users/gptjd/OneDrive/Desktop/tflite_data/human/resized_Image'\n",
    "EX_LABEL='C:/Users/gptjd/OneDrive/Desktop/tflite_data/human/Extracted_Label'\n",
    "EX_IMAGE='C:/Users/gptjd/OneDrive/Desktop/tflite_data/human/Extracted_Image'\n",
    "label_list=os.listdir(LABEL_PATH)"
   ]
  },
  {
   "cell_type": "code",
   "execution_count": 2,
   "id": "executive-discrimination",
   "metadata": {},
   "outputs": [],
   "source": [
    "for label in label_list:\n",
    "    f=open(os.path.join(LABEL_PATH,label),'r')\n",
    "    pick=[]\n",
    "    flag=0\n",
    "    while 1: \n",
    "        line=f.readline()\n",
    "        if not line:\n",
    "            break \n",
    "        pick.append(line.split())\n",
    "    f.close()\n",
    "    for p in pick:\n",
    "        x1=float(p[1])\n",
    "        y1=float(p[2])\n",
    "        x2=float(p[3])\n",
    "        y2=float(p[4])\n",
    "        \n",
    "        height=y2-y1\n",
    "        width=x2-x1\n",
    "        \n",
    "        if ((height/300) <=0.04) or ((width/300)<=0.04):\n",
    "            flag=1\n",
    "            break \n",
    "            \n",
    "    if flag==0:#This means that no bbox in the image is too small to be detected!!\n",
    "        shutil.move(os.path.join(LABEL_PATH,label),EX_LABEL)\n",
    "        image=label.replace('.txt','.jpg')\n",
    "        shutil.move(os.path.join(IMAGE_PATH,image),EX_IMAGE)\n",
    "        \n",
    "    \n",
    "            "
   ]
  },
  {
   "cell_type": "code",
   "execution_count": null,
   "id": "compliant-amber",
   "metadata": {},
   "outputs": [],
   "source": []
  }
 ],
 "metadata": {
  "kernelspec": {
   "display_name": "Python 3",
   "language": "python",
   "name": "python3"
  },
  "language_info": {
   "codemirror_mode": {
    "name": "ipython",
    "version": 3
   },
   "file_extension": ".py",
   "mimetype": "text/x-python",
   "name": "python",
   "nbconvert_exporter": "python",
   "pygments_lexer": "ipython3",
   "version": "3.8.0"
  }
 },
 "nbformat": 4,
 "nbformat_minor": 5
}
