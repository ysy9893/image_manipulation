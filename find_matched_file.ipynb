{
 "cells": [
  {
   "cell_type": "code",
   "execution_count": 27,
   "id": "celtic-support",
   "metadata": {},
   "outputs": [],
   "source": [
    "import os \n",
    "import cv2\n",
    "LABEL_PATH='C:/Users/gptjd/OneDrive/Desktop/tflite_data/car/Label'\n",
    "file_list=os.listdir(LABEL_PATH)\n",
    "IMAGE_PATH='C:/Users/gptjd/OneDrive/Desktop/tflite_data/car/Image'\n",
    "image_list=os.listdir(IMAGE_PATH)\n",
    "count=0\n",
    "\n",
    "new_list=[]\n"
   ]
  },
  {
   "cell_type": "code",
   "execution_count": 28,
   "id": "surgical-pointer",
   "metadata": {},
   "outputs": [],
   "source": [
    "\n",
    "for image in image_list:\n",
    "    label_file=image.replace('.jpg','.txt')\n",
    "    if label_file in file_list:\n",
    "        count+=1\n",
    "    else:\n",
    "        new_list.append(image)\n",
    "        continue"
   ]
  },
  {
   "cell_type": "code",
   "execution_count": 29,
   "id": "boolean-front",
   "metadata": {},
   "outputs": [
    {
     "name": "stdout",
     "output_type": "stream",
     "text": [
      "311\n"
     ]
    }
   ],
   "source": [
    "print(count)"
   ]
  },
  {
   "cell_type": "code",
   "execution_count": 30,
   "id": "positive-rider",
   "metadata": {},
   "outputs": [
    {
     "name": "stdout",
     "output_type": "stream",
     "text": [
      "[]\n"
     ]
    }
   ],
   "source": [
    "print(new_list)"
   ]
  },
  {
   "cell_type": "code",
   "execution_count": null,
   "id": "technological-financing",
   "metadata": {},
   "outputs": [],
   "source": []
  }
 ],
 "metadata": {
  "kernelspec": {
   "display_name": "Python 3",
   "language": "python",
   "name": "python3"
  },
  "language_info": {
   "codemirror_mode": {
    "name": "ipython",
    "version": 3
   },
   "file_extension": ".py",
   "mimetype": "text/x-python",
   "name": "python",
   "nbconvert_exporter": "python",
   "pygments_lexer": "ipython3",
   "version": "3.8.0"
  }
 },
 "nbformat": 4,
 "nbformat_minor": 5
}
