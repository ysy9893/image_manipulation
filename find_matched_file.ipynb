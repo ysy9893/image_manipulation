{
 "cells": [
  {
   "cell_type": "code",
   "execution_count": 5,
   "id": "celtic-support",
   "metadata": {},
   "outputs": [],
   "source": [
    "import os \n",
    "import cv2\n",
    "LABEL_PATH='C:/Users/gptjd/OneDrive/Desktop/360indoor'\n",
    "file_list=os.listdir(LABEL_PATH)\n",
    "IMAGE_PATH='C:/Users/gptjd/OneDrive/Desktop/images'\n",
    "image_list=os.listdir(IMAGE_PATH)\n",
    "count=0\n",
    "\n",
    "new_list=[]\n"
   ]
  },
  {
   "cell_type": "code",
   "execution_count": 6,
   "id": "surgical-pointer",
   "metadata": {},
   "outputs": [],
   "source": [
    "for label in file_list:\n",
    "    image_file=label.replace('.txt','.jpg')\n",
    "    if image_file in image_list:\n",
    "        count+=1\n",
    "        image=cv2.imread(IMAGE_PATH+'/'+image_file)\n",
    "        cv2.imwrite('C:/Users/gptjd/OneDrive/Desktop/new_image/'+image_file,image)\n",
    "    else:\n",
    "        new_list.append(label)\n",
    "        continue"
   ]
  },
  {
   "cell_type": "code",
   "execution_count": 3,
   "id": "boolean-front",
   "metadata": {},
   "outputs": [
    {
     "name": "stdout",
     "output_type": "stream",
     "text": [
      "277\n"
     ]
    }
   ],
   "source": [
    "print(count)"
   ]
  },
  {
   "cell_type": "code",
   "execution_count": 4,
   "id": "positive-rider",
   "metadata": {},
   "outputs": [
    {
     "name": "stdout",
     "output_type": "stream",
     "text": [
      "['desktop.ini']\n"
     ]
    }
   ],
   "source": [
    "print(new_list)"
   ]
  },
  {
   "cell_type": "code",
   "execution_count": null,
   "id": "technological-financing",
   "metadata": {},
   "outputs": [],
   "source": []
  }
 ],
 "metadata": {
  "kernelspec": {
   "display_name": "Python 3",
   "language": "python",
   "name": "python3"
  },
  "language_info": {
   "codemirror_mode": {
    "name": "ipython",
    "version": 3
   },
   "file_extension": ".py",
   "mimetype": "text/x-python",
   "name": "python",
   "nbconvert_exporter": "python",
   "pygments_lexer": "ipython3",
   "version": "3.8.0"
  }
 },
 "nbformat": 4,
 "nbformat_minor": 5
}
