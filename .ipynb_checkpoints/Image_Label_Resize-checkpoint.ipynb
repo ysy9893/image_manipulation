{
 "cells": [
  {
   "cell_type": "code",
   "execution_count": 2,
   "id": "blond-rebecca",
   "metadata": {},
   "outputs": [],
   "source": [
    "import os \n",
    "import cv2"
   ]
  },
  {
   "cell_type": "code",
   "execution_count": 4,
   "id": "forty-jungle",
   "metadata": {},
   "outputs": [
    {
     "name": "stdout",
     "output_type": "stream",
     "text": [
      "image.shape=(679, 1024, 3)\n",
      "new_image.shape=(300, 300, 3)\n"
     ]
    },
    {
     "ename": "FileNotFoundError",
     "evalue": "[Errno 2] No such file or directory: 'C:/Users/gptjd/OneDrive/Desktop/tflite_data/human/new_Label/car1.txt'",
     "output_type": "error",
     "traceback": [
      "\u001b[1;31m---------------------------------------------------------------------------\u001b[0m",
      "\u001b[1;31mFileNotFoundError\u001b[0m                         Traceback (most recent call last)",
      "\u001b[1;32m<ipython-input-4-b837b8c2c4fa>\u001b[0m in \u001b[0;36m<module>\u001b[1;34m\u001b[0m\n\u001b[0;32m     21\u001b[0m     \u001b[0mlabel\u001b[0m\u001b[1;33m=\u001b[0m\u001b[0mname\u001b[0m\u001b[1;33m.\u001b[0m\u001b[0mreplace\u001b[0m\u001b[1;33m(\u001b[0m\u001b[1;34m'.jpg'\u001b[0m\u001b[1;33m,\u001b[0m\u001b[1;34m'.txt'\u001b[0m\u001b[1;33m)\u001b[0m\u001b[1;33m\u001b[0m\u001b[1;33m\u001b[0m\u001b[0m\n\u001b[0;32m     22\u001b[0m \u001b[1;33m\u001b[0m\u001b[0m\n\u001b[1;32m---> 23\u001b[1;33m     \u001b[0mf\u001b[0m\u001b[1;33m=\u001b[0m\u001b[0mopen\u001b[0m\u001b[1;33m(\u001b[0m\u001b[0mLABEL_PATH\u001b[0m\u001b[1;33m+\u001b[0m\u001b[1;34m'/'\u001b[0m\u001b[1;33m+\u001b[0m\u001b[0mlabel\u001b[0m\u001b[1;33m,\u001b[0m\u001b[1;34m'r'\u001b[0m\u001b[1;33m)\u001b[0m\u001b[1;33m\u001b[0m\u001b[1;33m\u001b[0m\u001b[0m\n\u001b[0m\u001b[0;32m     24\u001b[0m \u001b[1;33m\u001b[0m\u001b[0m\n\u001b[0;32m     25\u001b[0m     \u001b[0mbox\u001b[0m\u001b[1;33m=\u001b[0m\u001b[1;33m[\u001b[0m\u001b[1;33m]\u001b[0m\u001b[1;33m\u001b[0m\u001b[1;33m\u001b[0m\u001b[0m\n",
      "\u001b[1;31mFileNotFoundError\u001b[0m: [Errno 2] No such file or directory: 'C:/Users/gptjd/OneDrive/Desktop/tflite_data/human/new_Label/car1.txt'"
     ]
    }
   ],
   "source": [
    "IMAGE_PATH='C:/Users/gptjd/OneDrive/Desktop/tflite_data/human/new_Image'\n",
    "LABEL_PATH='C:/Users/gptjd/OneDrive/Desktop/tflite_data/human/new_Label'\n",
    "RESIZED_IMAGE_PATH='C:/Users/gptjd/OneDrive/Desktop/tflite_data/human/resized_Image'\n",
    "RESIZED_LABEL_PATH='C:/Users/gptjd/OneDrive/Desktop/tflite_data/human/resized_Label'\n",
    "\n",
    "image_list=os.listdir(IMAGE_PATH)\n",
    "\n",
    "for image in image_list:\n",
    "    name=image\n",
    "    image=cv2.imread(IMAGE_PATH+'/'+image)\n",
    "    print(\"image.shape={0}\".format(image.shape))\n",
    "    \n",
    "    imH,imW=image.shape[:2]\n",
    "    \n",
    "    image=cv2.resize(image,(300,300))\n",
    "    print(\"new_image.shape={0}\".format(image.shape))\n",
    "    \n",
    "    cv2.imwrite(RESIZED_IMAGE_PATH+'/'+name,image)\n",
    "    \n",
    "    \n",
    "    label=name.replace('.jpg','.txt')\n",
    "    \n",
    "    f=open(LABEL_PATH+'/'+label,'r')\n",
    "    \n",
    "    box=[]\n",
    "    while 1:\n",
    "        \n",
    "        line=f.readline()\n",
    "        if not line:\n",
    "            break\n",
    "        box.append(line.split())\n",
    "    f.close()\n",
    "    \n",
    "    f=open(RESIZED_LABEL_PATH+'/'+label,'w')\n",
    "    \n",
    "    for b in box:\n",
    "        pick=[float(b[i]) for i in range(1,len(b))]\n",
    "        \n",
    "        x1=pick[0]*(300.0/imW)\n",
    "        y1=pick[1]*(300.0/imH)\n",
    "        x2=pick[2]*(300.0/imW)\n",
    "        y2=pick[3]*(300.0/imH)\n",
    "        \n",
    "        text=b[0]+\" \"+str(x1)+\" \"+str(y1)+\" \"+str(x2)+\" \"+str(y2)\n",
    "        f.write(text+\"\\n\")\n",
    "    f.close()\n",
    "        \n",
    "        \n",
    "        \n",
    "    \n",
    "    \n",
    "    \n",
    "    \n",
    "\n",
    "\n",
    "\n",
    "\n",
    "\n",
    "\n",
    "\n",
    "\n",
    "\n",
    "\n"
   ]
  },
  {
   "cell_type": "code",
   "execution_count": null,
   "id": "therapeutic-flood",
   "metadata": {},
   "outputs": [],
   "source": []
  }
 ],
 "metadata": {
  "kernelspec": {
   "display_name": "Python 3",
   "language": "python",
   "name": "python3"
  },
  "language_info": {
   "codemirror_mode": {
    "name": "ipython",
    "version": 3
   },
   "file_extension": ".py",
   "mimetype": "text/x-python",
   "name": "python",
   "nbconvert_exporter": "python",
   "pygments_lexer": "ipython3",
   "version": "3.8.0"
  }
 },
 "nbformat": 4,
 "nbformat_minor": 5
}
