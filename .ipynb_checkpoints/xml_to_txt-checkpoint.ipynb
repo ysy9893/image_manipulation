{
 "cells": [
  {
   "cell_type": "code",
   "execution_count": 1,
   "id": "valued-crossing",
   "metadata": {},
   "outputs": [],
   "source": [
    "import os \n",
    "import xml.etree.ElementTree as ET"
   ]
  },
  {
   "cell_type": "code",
   "execution_count": 12,
   "id": "polyphonic-realtor",
   "metadata": {},
   "outputs": [],
   "source": [
    "def parser(xml_path):\n",
    "    file=xml_path.replace('.xml','.txt')\n",
    "    #f=open(file,'w')\n",
    "    #parse() 함수를 사용해서 xml 파일을 로드하고, 파싱합니다. \n",
    "    #root를 통해서 아래 항목들을 찾아갈 것이다. \n",
    "    tree=ET.parse(xml_path)\n",
    "    root=tree.getroot()\n",
    "    for leaf in root.findall('object'):\n",
    "        \n",
    "        '''\n",
    "        bbox=leaf.find('bndbox')\n",
    "        \n",
    "        \n",
    "        x1=bbox.find('xmin').text\n",
    "        y1=bbox.find('ymin').text\n",
    "        x2=bbox.find('xmax').text\n",
    "        y2=bbox.find('ymax').text\n",
    "        \n",
    "        text=x1+\" \"+y1+\" \"+x2+\" \"+y2\n",
    "        #f.write(text)\n",
    "        '''\n",
    "    #f.close()\n",
    "        \n",
    "    \n",
    "\n",
    "        \n",
    "        \n",
    "        \n",
    "    \n",
    "    \n",
    "    \n",
    "    \n",
    "    \n",
    "    \n",
    "    "
   ]
  },
  {
   "cell_type": "code",
   "execution_count": 13,
   "id": "resistant-cooking",
   "metadata": {},
   "outputs": [
    {
     "ename": "ParseError",
     "evalue": "no element found: line 1, column 0 (<string>)",
     "output_type": "error",
     "traceback": [
      "Traceback \u001b[1;36m(most recent call last)\u001b[0m:\n",
      "  File \u001b[0;32m\"c:\\users\\gptjd\\anaconda3\\envs\\image_aug\\lib\\site-packages\\IPython\\core\\interactiveshell.py\"\u001b[0m, line \u001b[0;32m3427\u001b[0m, in \u001b[0;35mrun_code\u001b[0m\n    exec(code_obj, self.user_global_ns, self.user_ns)\n",
      "  File \u001b[0;32m\"<ipython-input-13-03e8610d4220>\"\u001b[0m, line \u001b[0;32m4\u001b[0m, in \u001b[0;35m<module>\u001b[0m\n    parser(DIR)\n",
      "  File \u001b[0;32m\"<ipython-input-12-7105e6cdf0d4>\"\u001b[0m, line \u001b[0;32m6\u001b[0m, in \u001b[0;35mparser\u001b[0m\n    tree=ET.parse(xml_path)\n",
      "  File \u001b[0;32m\"c:\\users\\gptjd\\anaconda3\\envs\\image_aug\\lib\\xml\\etree\\ElementTree.py\"\u001b[0m, line \u001b[0;32m1202\u001b[0m, in \u001b[0;35mparse\u001b[0m\n    tree.parse(source, parser)\n",
      "\u001b[1;36m  File \u001b[1;32m\"c:\\users\\gptjd\\anaconda3\\envs\\image_aug\\lib\\xml\\etree\\ElementTree.py\"\u001b[1;36m, line \u001b[1;32m595\u001b[1;36m, in \u001b[1;35mparse\u001b[1;36m\u001b[0m\n\u001b[1;33m    self._root = parser._parse_whole(source)\u001b[0m\n",
      "\u001b[1;36m  File \u001b[1;32m\"<string>\"\u001b[1;36m, line \u001b[1;32munknown\u001b[0m\n\u001b[1;31mParseError\u001b[0m\u001b[1;31m:\u001b[0m no element found: line 1, column 0\n"
     ]
    }
   ],
   "source": [
    "BASE_DIR='C:/Users/gptjd/OneDrive/Desktop/tflite_data/human/Label'\n",
    "filename='image (1).xml'\n",
    "DIR=BASE_DIR+'/'+filename\n",
    "parser(DIR)\n",
    "\n"
   ]
  },
  {
   "cell_type": "code",
   "execution_count": null,
   "id": "returning-column",
   "metadata": {},
   "outputs": [],
   "source": []
  }
 ],
 "metadata": {
  "kernelspec": {
   "display_name": "Python 3",
   "language": "python",
   "name": "python3"
  },
  "language_info": {
   "codemirror_mode": {
    "name": "ipython",
    "version": 3
   },
   "file_extension": ".py",
   "mimetype": "text/x-python",
   "name": "python",
   "nbconvert_exporter": "python",
   "pygments_lexer": "ipython3",
   "version": "3.8.0"
  }
 },
 "nbformat": 4,
 "nbformat_minor": 5
}
